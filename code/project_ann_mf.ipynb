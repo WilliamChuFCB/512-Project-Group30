{
 "cells": [
  {
   "cell_type": "raw",
   "metadata": {},
   "source": [
    "---\n",
    "title: \"Untitled\"\n",
    "format: html\n",
    "---"
   ]
  },
  {
   "cell_type": "code",
   "execution_count": 1,
   "metadata": {},
   "outputs": [],
   "source": [
    "\n",
    "import numpy as np\n",
    "import matplotlib.pyplot as plt\n",
    "import pandas as pd\n",
    "from sklearn.model_selection import train_test_split\n",
    "from sklearn.preprocessing import StandardScaler, LabelEncoder\n",
    "from sklearn.neural_network import MLPRegressor\n",
    "from sklearn.metrics import accuracy_score\n",
    "import matplotlib.pyplot as plt\n",
    "\n"
   ]
  },
  {
   "cell_type": "code",
   "execution_count": 2,
   "metadata": {},
   "outputs": [
    {
     "name": "stdout",
     "output_type": "stream",
     "text": [
      "   sl_no gender  ssc_p    ssc_b  hsc_p    hsc_b     hsc_s  degree_p  \\\n",
      "0      1      M  67.00   Others  91.00   Others  Commerce     58.00   \n",
      "1      2      M  79.33  Central  78.33   Others   Science     77.48   \n",
      "2      3      M  65.00  Central  68.00  Central      Arts     64.00   \n",
      "3      4      M  56.00  Central  52.00  Central   Science     52.00   \n",
      "4      5      M  85.80  Central  73.60  Central  Commerce     73.30   \n",
      "\n",
      "    degree_t workex  etest_p specialisation  mba_p      status    salary  \n",
      "0   Sci&Tech     No     55.0         Mkt&HR  58.80      Placed  270000.0  \n",
      "1   Sci&Tech    Yes     86.5        Mkt&Fin  66.28      Placed  200000.0  \n",
      "2  Comm&Mgmt     No     75.0        Mkt&Fin  57.80      Placed  250000.0  \n",
      "3   Sci&Tech     No     66.0         Mkt&HR  59.43  Not Placed       NaN  \n",
      "4  Comm&Mgmt     No     96.8        Mkt&Fin  55.50      Placed  425000.0  \n"
     ]
    },
    {
     "data": {
      "text/plain": [
       "(215, 15)"
      ]
     },
     "execution_count": 2,
     "metadata": {},
     "output_type": "execute_result"
    }
   ],
   "source": [
    "csv_file_path = 'Placement_Data_Full_Class.csv'\n",
    "df = pd.read_csv(csv_file_path)\n",
    "#df['salary'] = df['salary'].fillna(0)\n",
    "print(df.head())\n",
    "df.shape"
   ]
  },
  {
   "cell_type": "code",
   "execution_count": 3,
   "metadata": {},
   "outputs": [],
   "source": [
    "df = df.dropna()\n",
    "# Convert categorical variables to numerical values\n",
    "le = LabelEncoder()\n",
    "df['gender'] = le.fit_transform(df['gender'])\n",
    "df['ssc_b'] = le.fit_transform(df['ssc_b'])\n",
    "df['hsc_b'] = le.fit_transform(df['hsc_b'])\n",
    "df['hsc_s'] = le.fit_transform(df['hsc_s'])\n",
    "df['degree_t'] = le.fit_transform(df['degree_t'])\n",
    "df['workex'] = le.fit_transform(df['workex'])\n",
    "df['specialisation'] = le.fit_transform(df['specialisation'])\n",
    "df['status'] = le.fit_transform(df['status'])\n",
    "\n",
    "X = df.drop('salary', axis=1)\n",
    "y = df['salary']\n",
    "\n",
    "# Convert target variable (salary) into categories\n",
    "y = pd.cut(y, bins=[0, 100000, 200000, 300000, 400000, np.inf], labels=[0, 1, 2, 3, 4])\n",
    "\n",
    "X_train, X_test, y_train, y_test = train_test_split(X, y, test_size=0.25)\n",
    "\n",
    "scaler = StandardScaler()\n",
    "X_train = scaler.fit_transform(X_train)\n",
    "X_test = scaler.transform(X_test)\n"
   ]
  },
  {
   "cell_type": "code",
   "execution_count": 31,
   "metadata": {},
   "outputs": [
    {
     "name": "stderr",
     "output_type": "stream",
     "text": [
      "c:\\Users\\uriso\\anaconda3\\lib\\site-packages\\sklearn\\neural_network\\_multilayer_perceptron.py:549: ConvergenceWarning: lbfgs failed to converge (status=1):\n",
      "STOP: TOTAL NO. of ITERATIONS REACHED LIMIT.\n",
      "\n",
      "Increase the number of iterations (max_iter) or scale the data as shown in:\n",
      "    https://scikit-learn.org/stable/modules/preprocessing.html\n",
      "  self.n_iter_ = _check_optimize_result(\"lbfgs\", opt_res, self.max_iter)\n",
      "c:\\Users\\uriso\\anaconda3\\lib\\site-packages\\sklearn\\neural_network\\_multilayer_perceptron.py:692: ConvergenceWarning: Stochastic Optimizer: Maximum iterations (1000) reached and the optimization hasn't converged yet.\n",
      "  warnings.warn(\n",
      "c:\\Users\\uriso\\anaconda3\\lib\\site-packages\\sklearn\\neural_network\\_multilayer_perceptron.py:692: ConvergenceWarning: Stochastic Optimizer: Maximum iterations (1000) reached and the optimization hasn't converged yet.\n",
      "  warnings.warn(\n",
      "c:\\Users\\uriso\\anaconda3\\lib\\site-packages\\sklearn\\neural_network\\_multilayer_perceptron.py:692: ConvergenceWarning: Stochastic Optimizer: Maximum iterations (1000) reached and the optimization hasn't converged yet.\n",
      "  warnings.warn(\n",
      "c:\\Users\\uriso\\anaconda3\\lib\\site-packages\\sklearn\\neural_network\\_multilayer_perceptron.py:692: ConvergenceWarning: Stochastic Optimizer: Maximum iterations (1000) reached and the optimization hasn't converged yet.\n",
      "  warnings.warn(\n",
      "c:\\Users\\uriso\\anaconda3\\lib\\site-packages\\sklearn\\neural_network\\_multilayer_perceptron.py:692: ConvergenceWarning: Stochastic Optimizer: Maximum iterations (1000) reached and the optimization hasn't converged yet.\n",
      "  warnings.warn(\n",
      "c:\\Users\\uriso\\anaconda3\\lib\\site-packages\\sklearn\\neural_network\\_multilayer_perceptron.py:692: ConvergenceWarning: Stochastic Optimizer: Maximum iterations (1000) reached and the optimization hasn't converged yet.\n",
      "  warnings.warn(\n"
     ]
    }
   ],
   "source": [
    "import random\n",
    "random.seed(10)\n",
    "\n",
    "model1 = MLPRegressor(hidden_layer_sizes=[32,32],activation='identity',solver='lbfgs',tol=10**(-6),max_iter=1000,n_iter_no_change=50)\n",
    "model2 = MLPRegressor(hidden_layer_sizes=[32,32],activation='identity',solver='sgd',tol=10**(-6),max_iter=1000,n_iter_no_change=50)\n",
    "model3 = MLPRegressor(hidden_layer_sizes=[32,32],activation='identity',solver='adam',tol=10**(-6),max_iter=1000,n_iter_no_change=50)\n",
    "model4 = MLPRegressor(hidden_layer_sizes=[32,32],activation='logistic',solver='lbfgs',tol=10**(-6),max_iter=1000,n_iter_no_change=50)\n",
    "model5 = MLPRegressor(hidden_layer_sizes=[32,32],activation='logistic',solver='sgd',tol=10**(-6),max_iter=1000,n_iter_no_change=50)\n",
    "model6 = MLPRegressor(hidden_layer_sizes=[32,32],activation='logistic',solver='adam',tol=10**(-6),max_iter=1000,n_iter_no_change=50)\n",
    "model7 = MLPRegressor(hidden_layer_sizes=[32,32],activation='tanh',solver='lbfgs',tol=10**(-6),max_iter=1000,n_iter_no_change=50)\n",
    "model8 = MLPRegressor(hidden_layer_sizes=[32,32],activation='tanh',solver='sgd',tol=10**(-6),max_iter=1000,n_iter_no_change=50)\n",
    "model9 = MLPRegressor(hidden_layer_sizes=[32,32],activation='tanh',solver='adam',tol=10**(-6),max_iter=1000,n_iter_no_change=50)\n",
    "model10 = MLPRegressor(hidden_layer_sizes=[32,32],activation='relu',solver='lbfgs',tol=10**(-6),max_iter=1000,n_iter_no_change=50)\n",
    "model11 = MLPRegressor(hidden_layer_sizes=[32,32],activation='relu',solver='sgd',tol=10**(-6),max_iter=1000,n_iter_no_change=50)\n",
    "model12 = MLPRegressor(hidden_layer_sizes=[32,32],activation='relu',solver='adam',tol=10**(-6),max_iter=1000,n_iter_no_change=50)\n",
    "\n",
    "regr1 = model1.fit(X_train, y_train)\n",
    "regr2 = model2.fit(X_train, y_train)\n",
    "regr3 = model3.fit(X_train, y_train)\n",
    "regr4 = model4.fit(X_train, y_train)\n",
    "regr5 = model5.fit(X_train, y_train)\n",
    "regr6 = model6.fit(X_train, y_train)\n",
    "regr7 = model7.fit(X_train, y_train)\n",
    "regr8 = model8.fit(X_train, y_train)\n",
    "regr9 = model9.fit(X_train, y_train)\n",
    "regr10 = model10.fit(X_train, y_train)\n",
    "regr11 = model11.fit(X_train, y_train)\n",
    "regr12 = model12.fit(X_train, y_train)\n"
   ]
  },
  {
   "cell_type": "code",
   "execution_count": 36,
   "metadata": {},
   "outputs": [
    {
     "name": "stdout",
     "output_type": "stream",
     "text": [
      "                               lbfgs       sgd      adam\n",
      "Activation Function\\solver                              \n",
      "identity                    0.756757  0.756757  0.756757\n",
      "logistic                    0.540541  0.756757  0.702703\n",
      "tanh                        0.540541  0.540541  0.405405\n",
      "relu                        0.432432  0.675676  0.459459\n"
     ]
    }
   ],
   "source": [
    "y_pred1 =model1.predict(X_test)\n",
    "y_pred1 = np.clip(np.round(y_pred1).astype(int), 0, 4)\n",
    "accuracy1 = accuracy_score(y_test, y_pred1)\n",
    "\n",
    "y_pred2 =model2.predict(X_test)\n",
    "y_pred2 = np.clip(np.round(y_pred2).astype(int), 0, 4)\n",
    "accuracy2 = accuracy_score(y_test, y_pred2)\n",
    "\n",
    "y_pred3 =model3.predict(X_test)\n",
    "y_pred3 = np.clip(np.round(y_pred3).astype(int), 0, 4)\n",
    "accuracy3 = accuracy_score(y_test, y_pred3)\n",
    "\n",
    "y_pred4 =model4.predict(X_test)\n",
    "y_pred4 = np.clip(np.round(y_pred4).astype(int), 0, 4)\n",
    "accuracy4 = accuracy_score(y_test, y_pred4)\n",
    "\n",
    "y_pred5 =model5.predict(X_test)\n",
    "y_pred5 = np.clip(np.round(y_pred5).astype(int), 0, 4)\n",
    "accuracy5 = accuracy_score(y_test, y_pred5)\n",
    "\n",
    "y_pred6 =model6.predict(X_test)\n",
    "y_pred6 = np.clip(np.round(y_pred6).astype(int), 0, 4)\n",
    "accuracy6 = accuracy_score(y_test, y_pred6)\n",
    "\n",
    "y_pred7 =model7.predict(X_test)\n",
    "y_pred7 = np.clip(np.round(y_pred7).astype(int), 0, 4)\n",
    "accuracy7 = accuracy_score(y_test, y_pred7)\n",
    "\n",
    "y_pred8 =model8.predict(X_test)\n",
    "y_pred8 = np.clip(np.round(y_pred8).astype(int), 0, 4)\n",
    "accuracy8 = accuracy_score(y_test, y_pred8)\n",
    "\n",
    "y_pred9 =model9.predict(X_test)\n",
    "y_pred9 = np.clip(np.round(y_pred9).astype(int), 0, 4)\n",
    "accuracy9 = accuracy_score(y_test, y_pred9)\n",
    "\n",
    "\n",
    "y_pred10 =model10.predict(X_test)\n",
    "y_pred10 = np.clip(np.round(y_pred10).astype(int), 0, 4)\n",
    "accuracy10 = accuracy_score(y_test, y_pred10)\n",
    "\n",
    "y_pred11 =model11.predict(X_test)\n",
    "y_pred11 = np.clip(np.round(y_pred11).astype(int), 0, 4)\n",
    "accuracy11 = accuracy_score(y_test, y_pred11)\n",
    "\n",
    "y_pred12 =model12.predict(X_test)\n",
    "y_pred12 = np.clip(np.round(y_pred12).astype(int), 0, 4)\n",
    "accuracy12 = accuracy_score(y_test, y_pred12)\n",
    "\n",
    "data = {'Activation Function\\solver': ['identity', 'logistic', 'tanh', 'relu'],\n",
    "        'lbfgs': [accuracy1,accuracy4, accuracy7, accuracy10],\n",
    "        'sgd': [accuracy2, accuracy5, accuracy8, accuracy11],\n",
    "        'adam': [accuracy3, accuracy6, accuracy9, accuracy12]}\n",
    "\n",
    "dff = pd.DataFrame(data)\n",
    "dff.set_index('Activation Function\\solver', inplace=True)\n",
    "print(dff)"
   ]
  },
  {
   "attachments": {},
   "cell_type": "markdown",
   "metadata": {},
   "source": [
    "### Method\n",
    "\n",
    "We explore various combinations of activation functions and solvers in MLPRegressor to predict salary categories from a given dataset. First preprocess the dataset by removing missing values, encoding categorical features, and scaling the data. The target variable salary is then divided into five different bins (0-100000, 100000-200000, 200000-300000, 30000-400000, 400000-infinty). After splitting the dataset into training and testing sets, MLPRegressor models were trained using different combinations of activation functions (identity, logistic, tanh, and relu) and solvers (lbfgs, sgd, and adam). Predictions for each combination are then made on the test set and rounded to the nearest integer. The accuracy of each combination is calculated by comparing the predicted salary category with the actual salary category in the test set."
   ]
  },
  {
   "attachments": {},
   "cell_type": "markdown",
   "metadata": {},
   "source": [
    "### Conclusion\n",
    "\n",
    "From the results it is evident that the combination of activation='identity' and the solvers 'lbfgs', 'sgd' and 'adam' produces the highest accuracy of 0.7567567567567568. This shows that the \"identity\" activation function using any of the three solvers performs better at predicting salary categories based on a given dataset. On the other hand, the combination of activation='tanh' and solver='adam' resulted in the lowest accuracy of 0.40540540540540543, indicating that it may not be suitable for this dataset or for predicting salary categories. Overall, the code provides insight into how different activation functions and solvers affect the performance of an MLPRegressor model on a given dataset, which can help us determine the best combination for predicting salary categories."
   ]
  },
  {
   "attachments": {},
   "cell_type": "markdown",
   "metadata": {},
   "source": [
    "### Visualize fitting history"
   ]
  },
  {
   "cell_type": "code",
   "execution_count": 39,
   "metadata": {},
   "outputs": [
    {
     "data": {
      "image/png": "[encoded data removed]",
      "text/plain": [
       "<Figure size 640x480 with 1 Axes>"
      ]
     },
     "metadata": {},
     "output_type": "display_data"
    }
   ],
   "source": [
    "# print(regr.validation_scores_)\n",
    "fig, ax = plt.subplots()\n",
    "# training log-loss\n",
    "ax.plot(regr3.loss_curve_,\"o\")\n",
    "plt.show()"
   ]
  },
  {
   "attachments": {},
   "cell_type": "markdown",
   "metadata": {},
   "source": [
    "The accuracy of this model is around 75%. The model uses activation='identity', the hyperbolic tan function, solver='adam' stochastic gradient descent. This figure shows the loss curve of \"MLPRegressor\" during training. The loss curve represents the error between the model prediction and the true target value as a function of iterations. The model stabilizes after about 25 iterations."
   ]
  }
 ],
 "metadata": {
  "kernelspec": {
   "display_name": "Python 3",
   "language": "python",
   "name": "python3"
  },
  "language_info": {
   "codemirror_mode": {
    "name": "ipython",
    "version": 3
   },
   "file_extension": ".py",
   "mimetype": "text/x-python",
   "name": "python",
   "nbconvert_exporter": "python",
   "pygments_lexer": "ipython3",
   "version": "3.9.13"
  },
  "orig_nbformat": 4
 },
 "nbformat": 4,
 "nbformat_minor": 2
}
